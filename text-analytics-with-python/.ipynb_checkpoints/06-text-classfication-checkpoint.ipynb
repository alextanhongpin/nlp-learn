{
 "cells": [
  {
   "cell_type": "markdown",
   "metadata": {},
   "source": [
    "# Text classification/categorization\n",
    "\n",
    "    What is text classification?\n",
    "\n",
    "Text classification is the process of assigning text documents into one or more classes or categories, assuming that we have a predefined set of classes.\n",
    "\n",
    "Documents here are textual documents, and each document can contain a sentence or even a paragraph of words. \n",
    "\n",
    "## Two types of text classification\n",
    "\n",
    "    What types of text classifications are available?\n",
    "\n",
    "- content-based classification\n",
    "- request-based classification\n",
    "\n",
    "__Content-based classification__ is the type of text classification where priorities or weights are given to a specific subjects or topics in the text content that would help determine the class of the document.\n",
    "\n",
    "E.g., a book with more than 30 percent of its content about food preparations can be classified under cooking/recipes. \n",
    "\n",
    "__Request-based classification__ is influenced by user requests and targeted towards specific user groups and audiences. This type of classification is governed by specific policies and ideals."
   ]
  },
  {
   "cell_type": "markdown",
   "metadata": {},
   "source": [
    "## Text classification blueprint\n",
    "\n",
    "1. prepare test, train and validation (optional) datasets\n",
    "2. text normalization\n",
    "3. feature extraction\n",
    "4. model training\n",
    "5. model prediction and evaluation\n",
    "6. model deployment"
   ]
  },
  {
   "cell_type": "markdown",
   "metadata": {},
   "source": [
    "## Text normalization\n",
    "\n",
    "- expanding contractions\n",
    "- text standardization through lemmatization\n",
    "- removing special characters and aymbols\n",
    "- removing stopwords\n",
    "\n",
    "Others:\n",
    "- correcting spelling"
   ]
  },
  {
   "cell_type": "code",
   "execution_count": 11,
   "metadata": {},
   "outputs": [],
   "source": [
    "# In order to use modules, create a directory module and a __init__.py file there.\n",
    "# Note that a .py file cannot be in the same folder as the .ipynb, else it will throw an exception.\n",
    "from module.contractions import expand_contractions \n",
    "from module.tokenize import tokenize_text\n",
    "from module.lemmatize import lemmatize_text, pos_tag_text\n",
    "from module.feature_extractor import bow_extractor"
   ]
  },
  {
   "cell_type": "code",
   "execution_count": 2,
   "metadata": {},
   "outputs": [
    {
     "data": {
      "text/plain": [
       "'this is not good'"
      ]
     },
     "execution_count": 2,
     "metadata": {},
     "output_type": "execute_result"
    }
   ],
   "source": [
    "expand_contractions(\"this isn't good\")"
   ]
  },
  {
   "cell_type": "code",
   "execution_count": 3,
   "metadata": {},
   "outputs": [
    {
     "data": {
      "text/plain": [
       "['hello', 'world']"
      ]
     },
     "execution_count": 3,
     "metadata": {},
     "output_type": "execute_result"
    }
   ],
   "source": [
    "# Define function to tokenize text into tokens that will be used by our other normalization functions.\n",
    "tokenize_text('hello world')"
   ]
  },
  {
   "cell_type": "code",
   "execution_count": 4,
   "metadata": {},
   "outputs": [
    {
     "data": {
      "text/plain": [
       "'[hello] world'"
      ]
     },
     "execution_count": 4,
     "metadata": {},
     "output_type": "execute_result"
    }
   ],
   "source": [
    "import re\n",
    "\n",
    "# Match any hello.\n",
    "pattern = re.compile('hello')\n",
    "\n",
    "# Define a substitution function that allows us access to the matched word.\n",
    "def subfn(m):\n",
    "    match = m.group(0)\n",
    "    return f'[{match}]'\n",
    "    \n",
    "pattern.sub(subfn, 'hello world')"
   ]
  },
  {
   "cell_type": "code",
   "execution_count": 8,
   "metadata": {},
   "outputs": [
    {
     "data": {
      "text/plain": [
       "'where be you play football'"
      ]
     },
     "execution_count": 8,
     "metadata": {},
     "output_type": "execute_result"
    }
   ],
   "source": [
    "lemmatize_text('where are you playing football')"
   ]
  },
  {
   "cell_type": "code",
   "execution_count": 31,
   "metadata": {},
   "outputs": [],
   "source": [
    "import string\n",
    "import re\n",
    "from nltk.corpus import stopwords\n",
    "\n",
    "stopword_list = stopwords.words('english')\n",
    "\n",
    "def remove_special_characters(text):\n",
    "    tokens = tokenize_text(text)\n",
    "    pattern = re.compile('[{}]'.format(re.escape(string.punctuation)))\n",
    "    filtered_tokens = filter(None, [pattern.sub('', token) \n",
    "                                    for token in tokens])\n",
    "    filtered_text = ' '.join(filtered_tokens)\n",
    "    return filtered_text\n",
    "\n",
    "def remove_stopwords(text):\n",
    "    tokens = tokenize_text(text)\n",
    "    filtered_tokens = [token for token in tokens if token not in stopword_list]\n",
    "    filtered_text = ' '.join(filtered_tokens)\n",
    "    return filtered_text\n",
    "\n",
    "def normalize_corpus(corpus, tokenize=False):\n",
    "    normalized_corpus = []\n",
    "    for text in corpus:\n",
    "        text = expand_contractions(text)\n",
    "        text = lemmatize_text(text)\n",
    "        text = remove_special_characters(text)\n",
    "        text = remove_stopwords(text)\n",
    "        normalized_corpus.append(text)\n",
    "        if tokenize:\n",
    "            text = tokenize_text(text)\n",
    "            normalized_corpus.append(text)\n",
    "    return normalized_corpus"
   ]
  },
  {
   "cell_type": "code",
   "execution_count": 32,
   "metadata": {},
   "outputs": [],
   "source": [
    "CORPUS = [\n",
    "    'the sky is blue',\n",
    "    'sky is blue and sky is beautiful',\n",
    "    'the beautiful sky is blue',\n",
    "    'i love blue cheese'\n",
    "]\n",
    "new_doc = ['loving this blue sky today']"
   ]
  },
  {
   "cell_type": "code",
   "execution_count": 33,
   "metadata": {},
   "outputs": [
    {
     "data": {
      "text/plain": [
       "['sky blue',\n",
       " ['sky', 'blue'],\n",
       " 'sky blue sky beautiful',\n",
       " ['sky', 'blue', 'sky', 'beautiful'],\n",
       " 'beautiful sky blue',\n",
       " ['beautiful', 'sky', 'blue'],\n",
       " 'love blue cheese',\n",
       " ['love', 'blue', 'cheese']]"
      ]
     },
     "execution_count": 33,
     "metadata": {},
     "output_type": "execute_result"
    }
   ],
   "source": [
    "normalize_corpus(CORPUS, True)"
   ]
  },
  {
   "cell_type": "code",
   "execution_count": null,
   "metadata": {},
   "outputs": [],
   "source": [
    "## Feature Extraction"
   ]
  }
 ],
 "metadata": {
  "kernelspec": {
   "display_name": "Python 3",
   "language": "python",
   "name": "python3"
  },
  "language_info": {
   "codemirror_mode": {
    "name": "ipython",
    "version": 3
   },
   "file_extension": ".py",
   "mimetype": "text/x-python",
   "name": "python",
   "nbconvert_exporter": "python",
   "pygments_lexer": "ipython3",
   "version": "3.7.5"
  }
 },
 "nbformat": 4,
 "nbformat_minor": 2
}
